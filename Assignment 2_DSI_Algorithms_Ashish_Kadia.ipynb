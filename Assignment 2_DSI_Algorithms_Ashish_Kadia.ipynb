{
  "nbformat": 4,
  "nbformat_minor": 0,
  "metadata": {
    "colab": {
      "provenance": []
    },
    "kernelspec": {
      "name": "python3",
      "display_name": "Python 3"
    },
    "language_info": {
      "name": "python"
    }
  },
  "cells": [
    {
      "cell_type": "code",
      "execution_count": null,
      "metadata": {
        "id": "Ay0vyEKDLKTG"
      },
      "outputs": [],
      "source": []
    },
    {
      "cell_type": "markdown",
      "source": [
        "#Part 2:\n",
        "Create a Jupyter Notebook, create 6 of the following headings, and complete the following about the your partner's assignment 1:\n",
        "\n",
        "1) Paraphrase the problem in your own words.\n",
        "\n",
        "2) Create 1 new example that demonstrates you understand the problem. Trace/walkthrough 1 example that your partner made and explain it.\n",
        "\n",
        "3) Copy the solution your partner wrote.\n",
        "\n",
        "4) Explain why their solution works in your own words.\n",
        "\n",
        "5) Explain the problem’s time and space complexity in your own words.\n",
        "\n",
        "6) Critique your partner's solution, including explanation, if there is anything should be adjusted."
      ],
      "metadata": {
        "id": "6QsZJP4mL1EQ"
      }
    },
    {
      "cell_type": "markdown",
      "source": [
        "###My partner is Ben Ho. He worked on question 3 (given below).\n",
        "\n",
        "The linke to solution he provided is: https://github.com/SplitInf/algo1/blob/main/algorithm_assignment1.pdf"
      ],
      "metadata": {
        "id": "F5K58flsL_0H"
      }
    },
    {
      "cell_type": "markdown",
      "source": [
        "Question Three: Missing Number in Range\n",
        "You are given a list containing n integers in the range [0, n]. Return a list of numbes that are missing from the range [0, n] of the array. If there is no missing number, return -1. Note, all the integers in the list may not be unique.\n",
        "\n",
        "Examples\n",
        "Example 1\n",
        "Input: lst = [0, 2]\n",
        "\n",
        "Output: [1]\n",
        "\n",
        "Example 2\n",
        "Input: lst = [5, 0, 1]\n",
        "\n",
        "Output: [2, 3, 4]\n",
        "\n",
        "Example 3\n",
        "Input: lst = [6, 8, 2, 3, 5, 7, 0, 1, 10]\n",
        "\n",
        "Output: [4, 9]"
      ],
      "metadata": {
        "id": "-a2edQ0WPOUK"
      }
    },
    {
      "cell_type": "markdown",
      "source": [
        "### Question 1) Paraphrase the problem in your own words.\n",
        "\n",
        "Answer: for the given list of integer as a input, create a range of integers from 0 to the maximum number in list. Now from this range of integers, provide all the missing integers as output. list may also contain duplicates. if there are no missing integers in the range, provide -1 as output."
      ],
      "metadata": {
        "id": "F50a5SRDPQ6q"
      }
    },
    {
      "cell_type": "markdown",
      "source": [
        "### Question 2) Create 1 new example that demonstrates you understand the problem. Trace/walkthrough 1 example that your partner made and explain it.\n",
        "\n",
        "Answer:\n",
        "\n",
        "\n",
        "Example 1:\n",
        "\n",
        "Input: lst = [1, 2, 2, 2, 4, 6]\n",
        "\n",
        "expected output: [0,3,5]\n",
        "\n",
        "\n",
        "Example made by partner Ben Ho\n",
        "\n",
        "Input: `lst = [1, 2, 3, 4]`\n",
        "\n",
        "Output: -1\n",
        "\n",
        "Explanation: I think Ben Ho made some error here. The list contains values from 1 to 4. However, It does not contain '0'. so output should be '0'"
      ],
      "metadata": {
        "id": "cxyY4GeQkGOQ"
      }
    },
    {
      "cell_type": "markdown",
      "source": [
        "### Question 3) Copy the solution your partner wrote.\n",
        "# Original solution provided by Ben Ho."
      ],
      "metadata": {
        "id": "1HgEEX-RXERq"
      }
    },
    {
      "cell_type": "code",
      "source": [
        "\n",
        "def missing_num(nums: lst) -> int:\n",
        "  #create sorted list\n",
        "  lst_sorted=sorted(lst) #O(n^2)\n",
        "  #create full range of numbers with first and last object\n",
        "  full_range=range(lst_sorted[0], lst_sorted[-1], 1)\n",
        "\n",
        "  #create new list to store output\n",
        "  lst_missing=[]\n",
        "\n",
        "  #iterate though full_range and return items if it is not in input list to new list\n",
        "  for i in full_range: #O(n)\n",
        "    if i not in lst:\n",
        "      lst_missing.append(i)\n",
        "\n",
        "  #return new list is size is not 0, else returns -1\n",
        "  if len(lst_missing) > 0:\n",
        "    return(lst_missing)\n",
        "  else:\n",
        "    return(-1)\n"
      ],
      "metadata": {
        "id": "TcuKEIzwVLoo"
      },
      "execution_count": 100,
      "outputs": []
    },
    {
      "cell_type": "code",
      "source": [
        "#test 1\n",
        "lst = [5, 0, 4, 12, 9]\n",
        "missing_num(lst)\n"
      ],
      "metadata": {
        "colab": {
          "base_uri": "https://localhost:8080/",
          "height": 0
        },
        "id": "nrX90lnPr2YG",
        "outputId": "4d52c5fb-cc2e-4d22-a45d-60cd20b0bc44"
      },
      "execution_count": 101,
      "outputs": [
        {
          "output_type": "execute_result",
          "data": {
            "text/plain": [
              "[1, 2, 3, 6, 7, 8, 10, 11]"
            ]
          },
          "metadata": {},
          "execution_count": 101
        }
      ]
    },
    {
      "cell_type": "code",
      "source": [
        "#test 2\n",
        "lst = [1, 2, 3, 4]\n",
        "missing_num(lst)"
      ],
      "metadata": {
        "colab": {
          "base_uri": "https://localhost:8080/",
          "height": 0
        },
        "id": "1z3KTQWoryom",
        "outputId": "7319ddae-b193-4bc6-8147-c5a261c9ef3f"
      },
      "execution_count": 102,
      "outputs": [
        {
          "output_type": "execute_result",
          "data": {
            "text/plain": [
              "-1"
            ]
          },
          "metadata": {},
          "execution_count": 102
        }
      ]
    },
    {
      "cell_type": "markdown",
      "source": [
        "### Question 4) Explain why their solution works in your own words.\n",
        "\n",
        "Answer: first we sort the list. --> than we creat a range of list with lowest number in list to highest number (the error here is we are missing '0' as default lowest value). --> than we creat a enpty list as lst-missing --> now we are running for loop to identify missing integers in given list and storing them in lst_missing, to creat a list of all missing values. --> now we are providing missing value as output. --> except in scenario when list is empty."
      ],
      "metadata": {
        "id": "4lMGTXLmtPIB"
      }
    },
    {
      "cell_type": "markdown",
      "source": [
        "### Question 5) Explain the problem’s time and space complexity in your own words.\n",
        "\n",
        "Answer:\n",
        "\n",
        "Time Complexity: there are 3 factor that affacts time complexity:\n",
        "\n",
        "1) sorted function: this used Timsort algorith which have time complexity of O(n log n) (Source: https://stackoverflow.com/questions/14434490/what-is-the-complexity-of-the-sorted-function)\n",
        "\n",
        "2) range function which have time complexity of O(m)\n",
        "\n",
        "3) for loop which have time complexity of O(m)\n",
        "\n",
        "However, in worst case, the tome complexity depends on sorted function hence over all time complexity will be O(n log n)\n",
        "\n",
        "Space xomplexity: there are two factors which affects space complexity\n",
        "\n",
        "1) sorted finction which depends on number of total input. so space complexity will be O(n)\n",
        "\n",
        "2) range function which depends on only highest value in list, since default lowest is 0. so space complexity will be O(1)\n",
        "\n",
        "So in worst case, space complexity depends on sorted function. Hence over all space complexity will be O(n)\n",
        "\n"
      ],
      "metadata": {
        "id": "B0Zlz4Iez9EZ"
      }
    },
    {
      "cell_type": "markdown",
      "source": [
        "### Question 6) Critique your partner's solution, including explanation, if there is anything should be adjusted.\n",
        "\n",
        "Answer: Ben Ho did great job explaining code and provided simplified version of it. However there are some improvements that can make code better.\n",
        "\n",
        "1) first of all time complexity for sorted function is incorrect. it would be O(n log n) instead of #O(n^2). (Source: https://stackoverflow.com/questions/14434490/what-is-the-complexity-of-the-sorted-function)\n",
        "\n",
        "2) the code does not assume 0 as lowest value in range. but it assumes 1 as lowest value in given range. So the range of given list is [1,n] instead of [0,n]"
      ],
      "metadata": {
        "id": "T-ud0_ll2aRU"
      }
    },
    {
      "cell_type": "markdown",
      "source": [
        "# Alternate solution provided by Ben Ho:\n",
        "\n",
        "alternative solution using set difference\n",
        "1. given input integer 'lst', create sorted range of numbers\n",
        "2. get min max from sorted range and create 'full_range'\n",
        "3. apply difference() of full_range on lst\n",
        "\n",
        "### I have corrected error where missiong '0' is also included in output"
      ],
      "metadata": {
        "id": "hmn0HoWqV300"
      }
    },
    {
      "cell_type": "code",
      "source": [
        "def find_missing_numbers(nums):\n",
        "    # creating a set of input numbers\n",
        "    nums_set = set(nums)\n",
        "\n",
        "    # getting maximum and minimum numbers\n",
        "    min_num, max_num = min(nums), max(nums)\n",
        "\n",
        "    # creating reange from 0 to max number\n",
        "    full_range = set(range(0, max_num + 1))\n",
        "\n",
        "    # finding missing numbers\n",
        "    missing_numbers = [num for num in full_range if num not in nums_set]\n",
        "\n",
        "    # returning missing numbers if any or returning -1 if no missing numbers\n",
        "    return missing_numbers if missing_numbers else -1\n",
        "\n",
        "# testing Example 1\n",
        "lst = [1, 2, 2, 2, 4, 6]\n",
        "# expected output [0,3,5]\n",
        "result = find_missing_numbers(lst)\n",
        "print(result)\n"
      ],
      "metadata": {
        "colab": {
          "base_uri": "https://localhost:8080/",
          "height": 0
        },
        "id": "KlER8au8lpO-",
        "outputId": "448e1d5c-9826-4ff8-9bfb-1fec084691cb"
      },
      "execution_count": 113,
      "outputs": [
        {
          "output_type": "stream",
          "name": "stdout",
          "text": [
            "[0, 3, 5]\n"
          ]
        }
      ]
    },
    {
      "cell_type": "markdown",
      "source": [
        "# Part 3:\n",
        "### Question: Please write a 200 word reflection documenting your studying process from assignment 1, and your presentation and reviewing experience with your partner at the bottom of the Juypter Notebook under a new heading \"Reflection.\" Again, export this Notebook as pdf.\n",
        "\n",
        "# Reflection\n",
        "Answer:\n",
        "\n",
        "I found all 3 questions for assignment-1 a bit challenging. Especially question related to data structures. On the way to finding solutions, I ended up learning more.\n",
        "\n",
        "For my assignment-1, I was trying to find the solution for Q1 which is related to finding duplicates in data structure. I think that my code was perfect until I received feedback from Tina. Where I realize that there is error in my code. Which can identify duplicates in the data tree. But cannot tell if the duplicate is closest to the root. Definitely I felt disappointed. But most importantly, I learnt that I forgot to test my code in different scenarios. Now I understand important of unit tests and quality control in catching buggy codes.\n",
        "\n",
        "Than I started working on my partner’s code Ben Ho. Ben Ho was working on question 3 which is related to finding the missing integers from the given list. My partner understood the assignment very well and Ben Ho found very simple and effective solution. My partner provided proper comments to explain each line of codes and also provided alternate solution. However there was small error in code because the code assumes the list [1,n] and not [0,n] which means if 0 is not provided in the given list, the output does not contain ‘0’.\n",
        "\n",
        "I think this is small part that was missed and I was able to improvise it using alternate solution.\n",
        "\n",
        "Overall, it was great brain exercise!\n"
      ],
      "metadata": {
        "id": "wNSSQjDK3hDf"
      }
    }
  ]
}